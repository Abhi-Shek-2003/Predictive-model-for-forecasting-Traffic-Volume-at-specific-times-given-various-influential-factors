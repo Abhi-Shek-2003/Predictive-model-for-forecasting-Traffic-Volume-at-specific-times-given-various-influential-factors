{
 "cells": [
  {
   "cell_type": "code",
   "execution_count": 20,
   "id": "cf3f85f7",
   "metadata": {},
   "outputs": [],
   "source": [
    "import os\n",
    "import pandas as pd\n",
    "import numpy as np\n",
    "from sklearn.model_selection import train_test_split\n",
    "from sklearn.ensemble import RandomForestRegressor\n",
    "from sklearn.metrics import mean_squared_error\n"
   ]
  },
  {
   "cell_type": "code",
   "execution_count": 21,
   "id": "4d2a2f17",
   "metadata": {},
   "outputs": [],
   "source": [
    "extracted_folder_path = 'C:/Users/91709/Downloads/Dataset'\n",
    "dataset_folder_path = os.path.join(extracted_folder_path, 'Dataset')\n",
    "\n"
   ]
  },
  {
   "cell_type": "code",
   "execution_count": 22,
   "id": "beab64ca",
   "metadata": {},
   "outputs": [],
   "source": [
    "# Load the datasets\n",
    "train_data_path = os.path.join(dataset_folder_path, 'Train.csv')\n",
    "test_data_path = os.path.join(dataset_folder_path, 'Test.csv')\n",
    "submission_data_path = os.path.join(dataset_folder_path, 'Submission.csv')\n"
   ]
  },
  {
   "cell_type": "code",
   "execution_count": 23,
   "id": "3ef4108d",
   "metadata": {},
   "outputs": [],
   "source": [
    "train_data = pd.read_csv(train_data_path)\n",
    "test_data = pd.read_csv(test_data_path)\n",
    "submission_format = pd.read_csv(submission_data_path)\n"
   ]
  },
  {
   "cell_type": "code",
   "execution_count": 24,
   "id": "f7ca798e",
   "metadata": {},
   "outputs": [
    {
     "name": "stdout",
     "output_type": "stream",
     "text": [
      "Train Data Columns: Index(['Holiday', 'Temperature', 'Rainfall_last_hour', 'Snowfall_last_hour',\n",
      "       'Cloud_Cover', 'Weather', 'Weather_Desc', 'TimeStamp', 'Date',\n",
      "       'Traffic_Vol'],\n",
      "      dtype='object')\n",
      "Test Data Columns: Index(['Holiday', 'Temperature', 'Rainfall_last_hour', 'Snowfall_last_hour',\n",
      "       'Cloud_Cover', 'Weather', 'Weather_Desc', 'TimeStamp', 'Date',\n",
      "       'Traffic_Vol'],\n",
      "      dtype='object')\n"
     ]
    }
   ],
   "source": [
    "# Check the column names in the datasets\n",
    "print(\"Train Data Columns:\", train_data.columns)\n",
    "print(\"Test Data Columns:\", test_data.columns)\n"
   ]
  },
  {
   "cell_type": "code",
   "execution_count": 25,
   "id": "afce94cc",
   "metadata": {},
   "outputs": [],
   "source": [
    "def preprocess_data(train, test):\n",
    "    # Combine train and test for consistent one-hot encoding\n",
    "    train['is_train'] = 1\n",
    "    test['is_train'] = 0\n",
    "    combined = pd.concat([train, test], ignore_index=True)\n",
    "    \n",
    "    # Convert 'TimeStamp' to datetime and extract features\n",
    "    combined['TimeStamp'] = pd.to_datetime(combined['TimeStamp'])\n",
    "    combined['hour'] = combined['TimeStamp'].dt.hour\n",
    "    combined['day'] = combined['TimeStamp'].dt.day\n",
    "    combined['month'] = combined['TimeStamp'].dt.month\n",
    "    combined['weekday'] = combined['TimeStamp'].dt.weekday\n",
    "    combined.drop(columns=['TimeStamp'], inplace=True)\n",
    "\n",
    "    # Handle missing values\n",
    "    combined.fillna(combined.median(), inplace=True)\n",
    "    for column in combined.select_dtypes(include=['object']).columns:\n",
    "        combined[column].fillna(combined[column].mode()[0], inplace=True)\n",
    "\n",
    "    # One-hot encode categorical variables\n",
    "    combined = pd.get_dummies(combined, drop_first=True)\n",
    "\n",
    "    # Split back into train and test sets\n",
    "    train = combined[combined['is_train'] == 1].drop(columns=['is_train'])\n",
    "    test = combined[combined['is_train'] == 0].drop(columns=['is_train'])\n",
    "\n",
    "    return train, test\n",
    "\n",
    "\n",
    "   \n",
    "\n"
   ]
  },
  {
   "cell_type": "code",
   "execution_count": 26,
   "id": "e3d26ba3",
   "metadata": {},
   "outputs": [
    {
     "name": "stderr",
     "output_type": "stream",
     "text": [
      "C:\\Users\\91709\\AppData\\Local\\Temp\\ipykernel_4952\\3174159921.py:16: FutureWarning: The default value of numeric_only in DataFrame.median is deprecated. In a future version, it will default to False. In addition, specifying 'numeric_only=None' is deprecated. Select only valid columns or specify the value of numeric_only to silence this warning.\n",
      "  combined.fillna(combined.median(), inplace=True)\n"
     ]
    }
   ],
   "source": [
    "# Apply preprocessing to both train and test datasets\n",
    "train_data, test_data = preprocess_data(train_data, test_data)\n"
   ]
  },
  {
   "cell_type": "code",
   "execution_count": 27,
   "id": "3b6f8948",
   "metadata": {},
   "outputs": [],
   "source": [
    "\n",
    "# Split train_data into features and target\n",
    "X_train = train_data.drop(columns=['Traffic_Vol'])  # Exclude the target column\n",
    "y_train = train_data['Traffic_Vol']  # Target column\n",
    "\n",
    "# Ensure test_data has no 'Traffic_Vol' column\n",
    "if 'Traffic_Vol' in test_data.columns:\n",
    "    test_data = test_data.drop(columns=['Traffic_Vol'])\n",
    "\n",
    "\n"
   ]
  },
  {
   "cell_type": "code",
   "execution_count": 28,
   "id": "00f388ae",
   "metadata": {},
   "outputs": [],
   "source": [
    "# Split the data into training and validation sets\n",
    "X_train, X_val, y_train, y_val = train_test_split(X_train, y_train, test_size=0.2, random_state=42)\n"
   ]
  },
  {
   "cell_type": "code",
   "execution_count": 29,
   "id": "495206b0",
   "metadata": {},
   "outputs": [
    {
     "data": {
      "text/html": [
       "<style>#sk-container-id-1 {color: black;background-color: white;}#sk-container-id-1 pre{padding: 0;}#sk-container-id-1 div.sk-toggleable {background-color: white;}#sk-container-id-1 label.sk-toggleable__label {cursor: pointer;display: block;width: 100%;margin-bottom: 0;padding: 0.3em;box-sizing: border-box;text-align: center;}#sk-container-id-1 label.sk-toggleable__label-arrow:before {content: \"▸\";float: left;margin-right: 0.25em;color: #696969;}#sk-container-id-1 label.sk-toggleable__label-arrow:hover:before {color: black;}#sk-container-id-1 div.sk-estimator:hover label.sk-toggleable__label-arrow:before {color: black;}#sk-container-id-1 div.sk-toggleable__content {max-height: 0;max-width: 0;overflow: hidden;text-align: left;background-color: #f0f8ff;}#sk-container-id-1 div.sk-toggleable__content pre {margin: 0.2em;color: black;border-radius: 0.25em;background-color: #f0f8ff;}#sk-container-id-1 input.sk-toggleable__control:checked~div.sk-toggleable__content {max-height: 200px;max-width: 100%;overflow: auto;}#sk-container-id-1 input.sk-toggleable__control:checked~label.sk-toggleable__label-arrow:before {content: \"▾\";}#sk-container-id-1 div.sk-estimator input.sk-toggleable__control:checked~label.sk-toggleable__label {background-color: #d4ebff;}#sk-container-id-1 div.sk-label input.sk-toggleable__control:checked~label.sk-toggleable__label {background-color: #d4ebff;}#sk-container-id-1 input.sk-hidden--visually {border: 0;clip: rect(1px 1px 1px 1px);clip: rect(1px, 1px, 1px, 1px);height: 1px;margin: -1px;overflow: hidden;padding: 0;position: absolute;width: 1px;}#sk-container-id-1 div.sk-estimator {font-family: monospace;background-color: #f0f8ff;border: 1px dotted black;border-radius: 0.25em;box-sizing: border-box;margin-bottom: 0.5em;}#sk-container-id-1 div.sk-estimator:hover {background-color: #d4ebff;}#sk-container-id-1 div.sk-parallel-item::after {content: \"\";width: 100%;border-bottom: 1px solid gray;flex-grow: 1;}#sk-container-id-1 div.sk-label:hover label.sk-toggleable__label {background-color: #d4ebff;}#sk-container-id-1 div.sk-serial::before {content: \"\";position: absolute;border-left: 1px solid gray;box-sizing: border-box;top: 0;bottom: 0;left: 50%;z-index: 0;}#sk-container-id-1 div.sk-serial {display: flex;flex-direction: column;align-items: center;background-color: white;padding-right: 0.2em;padding-left: 0.2em;position: relative;}#sk-container-id-1 div.sk-item {position: relative;z-index: 1;}#sk-container-id-1 div.sk-parallel {display: flex;align-items: stretch;justify-content: center;background-color: white;position: relative;}#sk-container-id-1 div.sk-item::before, #sk-container-id-1 div.sk-parallel-item::before {content: \"\";position: absolute;border-left: 1px solid gray;box-sizing: border-box;top: 0;bottom: 0;left: 50%;z-index: -1;}#sk-container-id-1 div.sk-parallel-item {display: flex;flex-direction: column;z-index: 1;position: relative;background-color: white;}#sk-container-id-1 div.sk-parallel-item:first-child::after {align-self: flex-end;width: 50%;}#sk-container-id-1 div.sk-parallel-item:last-child::after {align-self: flex-start;width: 50%;}#sk-container-id-1 div.sk-parallel-item:only-child::after {width: 0;}#sk-container-id-1 div.sk-dashed-wrapped {border: 1px dashed gray;margin: 0 0.4em 0.5em 0.4em;box-sizing: border-box;padding-bottom: 0.4em;background-color: white;}#sk-container-id-1 div.sk-label label {font-family: monospace;font-weight: bold;display: inline-block;line-height: 1.2em;}#sk-container-id-1 div.sk-label-container {text-align: center;}#sk-container-id-1 div.sk-container {/* jupyter's `normalize.less` sets `[hidden] { display: none; }` but bootstrap.min.css set `[hidden] { display: none !important; }` so we also need the `!important` here to be able to override the default hidden behavior on the sphinx rendered scikit-learn.org. See: https://github.com/scikit-learn/scikit-learn/issues/21755 */display: inline-block !important;position: relative;}#sk-container-id-1 div.sk-text-repr-fallback {display: none;}</style><div id=\"sk-container-id-1\" class=\"sk-top-container\"><div class=\"sk-text-repr-fallback\"><pre>RandomForestRegressor(random_state=42)</pre><b>In a Jupyter environment, please rerun this cell to show the HTML representation or trust the notebook. <br />On GitHub, the HTML representation is unable to render, please try loading this page with nbviewer.org.</b></div><div class=\"sk-container\" hidden><div class=\"sk-item\"><div class=\"sk-estimator sk-toggleable\"><input class=\"sk-toggleable__control sk-hidden--visually\" id=\"sk-estimator-id-1\" type=\"checkbox\" checked><label for=\"sk-estimator-id-1\" class=\"sk-toggleable__label sk-toggleable__label-arrow\">RandomForestRegressor</label><div class=\"sk-toggleable__content\"><pre>RandomForestRegressor(random_state=42)</pre></div></div></div></div></div>"
      ],
      "text/plain": [
       "RandomForestRegressor(random_state=42)"
      ]
     },
     "execution_count": 29,
     "metadata": {},
     "output_type": "execute_result"
    }
   ],
   "source": [
    "# Build the model\n",
    "model = RandomForestRegressor(n_estimators=100, random_state=42)\n",
    "model.fit(X_train, y_train)\n",
    "\n"
   ]
  },
  {
   "cell_type": "code",
   "execution_count": 30,
   "id": "b86c94fe",
   "metadata": {},
   "outputs": [
    {
     "name": "stdout",
     "output_type": "stream",
     "text": [
      "Validation RMSE: 570.3224468896766\n"
     ]
    }
   ],
   "source": [
    "# Evaluate the model\n",
    "val_predictions = model.predict(X_val)\n",
    "rmse = np.sqrt(mean_squared_error(y_val, val_predictions))\n",
    "print(f\"Validation RMSE: {rmse}\")\n",
    "\n"
   ]
  },
  {
   "cell_type": "code",
   "execution_count": 34,
   "id": "51400595",
   "metadata": {},
   "outputs": [],
   "source": [
    "# Predict on the test dataset\n",
    "test_predictions = model.predict(test_data)\n",
    "# Remove the first column\n",
    "submission_format = submission_format.drop(submission_format.columns[0], axis=1)\n"
   ]
  },
  {
   "cell_type": "code",
   "execution_count": 35,
   "id": "9e3b7da9",
   "metadata": {},
   "outputs": [],
   "source": [
    "# Prepare the submission format\n",
    "submission_format['traffic_volume'] = test_predictions\n",
    "\n"
   ]
  },
  {
   "cell_type": "code",
   "execution_count": 37,
   "id": "b7578ba3",
   "metadata": {},
   "outputs": [
    {
     "name": "stdout",
     "output_type": "stream",
     "text": [
      "Predictions saved to C:/Users/91709/Downloads/Dataset\\submission.csv\n"
     ]
    }
   ],
   "source": [
    "output_dir = 'C:/Users/91709/Downloads/Dataset'\n",
    "if not os.path.exists(output_dir):\n",
    "    os.makedirs(output_dir)\n",
    "\n",
    "output_path = os.path.join(output_dir, 'submission.csv')\n",
    "submission_format.to_csv(output_path, index=False)\n",
    "print(f\"Predictions saved to {output_path}\")\n",
    "\n"
   ]
  },
  {
   "cell_type": "code",
   "execution_count": null,
   "id": "4a90ad8f",
   "metadata": {},
   "outputs": [],
   "source": []
  },
  {
   "cell_type": "code",
   "execution_count": null,
   "id": "32636668",
   "metadata": {},
   "outputs": [],
   "source": []
  }
 ],
 "metadata": {
  "kernelspec": {
   "display_name": "Python 3 (ipykernel)",
   "language": "python",
   "name": "python3"
  },
  "language_info": {
   "codemirror_mode": {
    "name": "ipython",
    "version": 3
   },
   "file_extension": ".py",
   "mimetype": "text/x-python",
   "name": "python",
   "nbconvert_exporter": "python",
   "pygments_lexer": "ipython3",
   "version": "3.10.9"
  }
 },
 "nbformat": 4,
 "nbformat_minor": 5
}
